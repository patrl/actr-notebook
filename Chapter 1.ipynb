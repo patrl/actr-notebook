{
 "cells": [
  {
   "cell_type": "markdown",
   "metadata": {},
   "source": [
    "# Chapter 1\n",
    "\n",
    "## Creating arbitrary chunks\n",
    "\n",
    "First, we conditionally import the `pyactr` module as `actr`."
   ]
  },
  {
   "cell_type": "code",
   "execution_count": 8,
   "metadata": {},
   "outputs": [],
   "source": [
    "import pyactr as actr"
   ]
  },
  {
   "cell_type": "markdown",
   "metadata": {},
   "source": [
    "Let's first declare a chunk type to model the lexicon. The `chunktype` function creates a type `word` with some slots, seperated by commas."
   ]
  },
  {
   "cell_type": "code",
   "execution_count": 9,
   "metadata": {},
   "outputs": [],
   "source": [
    "actr.chunktype(\"word\", \"form, meaning, category, number\")"
   ]
  },
  {
   "cell_type": "markdown",
   "metadata": {},
   "source": [
    "Now that we've declared a chunk type, we can create chunks of that type.\n",
    "\n",
    "Note that the function `makechunk` only has two obligatory arguments:\n",
    " - `typename`\n",
    " - `nameofchunk`\n",
    " \n",
    " Unspecified slots are left empty."
   ]
  },
  {
   "cell_type": "code",
   "execution_count": 10,
   "metadata": {},
   "outputs": [
    {
     "name": "stdout",
     "output_type": "stream",
     "text": [
      "word(category= noun, form= car, meaning= [[car]], number= sg)\n"
     ]
    }
   ],
   "source": [
    "carLexeme = actr.makechunk(nameofchunk=\"car1\",\n",
    "                          typename=\"word\",\n",
    "                          form=\"car\",\n",
    "                          meaning=\"[[car]]\",\n",
    "                          category=\"noun\",\n",
    "                          number=\"sg\")\n",
    "\n",
    "print(carLexeme)"
   ]
  },
  {
   "cell_type": "markdown",
   "metadata": {},
   "source": [
    "N.b. that chunks can be extended with new slots not originally present in the chunk type declaration."
   ]
  },
  {
   "cell_type": "code",
   "execution_count": 11,
   "metadata": {},
   "outputs": [
    {
     "name": "stderr",
     "output_type": "stream",
     "text": [
      "/nix/store/x26x643i7wrljvcd2c9zkdd89f4mvzxa-python3-3.7.7-env/lib/python3.7/site-packages/pyactr/chunks.py:130: UserWarning: Chunk type word is extended with new attributes\n",
      "  warnings.warn(\"Chunk type %s is extended with new attributes\" % typename)\n"
     ]
    }
   ],
   "source": [
    "carLexeme2 = actr.makechunk(nameofchunk=\"car1\",\n",
    "                          typename=\"word\",\n",
    "                          form=\"car\",\n",
    "                          meaning=\"[[car]]\",\n",
    "                          category=\"noun\",\n",
    "                          number=\"sg\",\n",
    "                           synfunction=\"subj\")\n"
   ]
  },
  {
   "cell_type": "markdown",
   "metadata": {},
   "source": [
    "The `chunkstring` function is an alternative method for declaring a new chunk:\n",
    "\n",
    "(n.b. triple quotation in python indicates that a string can appear on more than one line.)"
   ]
  },
  {
   "cell_type": "code",
   "execution_count": 14,
   "metadata": {},
   "outputs": [
    {
     "name": "stdout",
     "output_type": "stream",
     "text": [
      "word(category= noun, form= car, meaning= [[car]], number= sg, synfunction= subj)\n"
     ]
    }
   ],
   "source": [
    "carLexeme3 = actr.chunkstring(string=\"\"\"\n",
    "    isa word\n",
    "    form car\n",
    "    meaning '[[car]]'\n",
    "    category noun\n",
    "    number sg\n",
    "    synfunction subj\n",
    "\"\"\")\n",
    "\n",
    "print(carLexeme3)"
   ]
  },
  {
   "cell_type": "markdown",
   "metadata": {},
   "source": [
    "Treating chunks as attribute value sets induces natural notions of equality and implication. The standard python comparison operators are overloaded to reflect this.\n",
    "\n",
    "N.b. the chunk type is completely ignored for the purpose of these comparisons; the chunk type is just syntactic sugar for human modellers, it has no status in the theory of ACT-R."
   ]
  },
  {
   "cell_type": "code",
   "execution_count": 15,
   "metadata": {},
   "outputs": [
    {
     "data": {
      "text/plain": [
       "True"
      ]
     },
     "execution_count": 15,
     "metadata": {},
     "output_type": "execute_result"
    }
   ],
   "source": [
    "carLexeme2 == carLexeme3"
   ]
  },
  {
   "cell_type": "code",
   "execution_count": 16,
   "metadata": {},
   "outputs": [
    {
     "data": {
      "text/plain": [
       "False"
      ]
     },
     "execution_count": 16,
     "metadata": {},
     "output_type": "execute_result"
    }
   ],
   "source": [
    "carLexeme == carLexeme2"
   ]
  },
  {
   "cell_type": "code",
   "execution_count": 17,
   "metadata": {},
   "outputs": [
    {
     "data": {
      "text/plain": [
       "True"
      ]
     },
     "execution_count": 17,
     "metadata": {},
     "output_type": "execute_result"
    }
   ],
   "source": [
    "carLexeme < carLexeme2"
   ]
  },
  {
   "cell_type": "markdown",
   "metadata": {},
   "source": [
    "## Beyond arbitrary chunks"
   ]
  },
  {
   "cell_type": "markdown",
   "metadata": {},
   "source": [
    "We're going to build an extremely simple mind that can do subject agreement. First, let's build a container for a mind (a model)."
   ]
  },
  {
   "cell_type": "code",
   "execution_count": 18,
   "metadata": {},
   "outputs": [],
   "source": [
    "agreement = actr.ACTRModel ()"
   ]
  },
  {
   "cell_type": "markdown",
   "metadata": {},
   "source": [
    "For convenience, any model comes with a declarative memory module with an empty retrieval buffer. Modules are attributes of models."
   ]
  },
  {
   "cell_type": "code",
   "execution_count": 21,
   "metadata": {},
   "outputs": [
    {
     "data": {
      "text/plain": [
       "set()"
      ]
     },
     "execution_count": 21,
     "metadata": {},
     "output_type": "execute_result"
    }
   ],
   "source": [
    "agreement.decmem\n",
    "agreement.goal\n",
    "agreement.retrieval"
   ]
  },
  {
   "cell_type": "markdown",
   "metadata": {},
   "source": [
    "Let's declare a shorter alias for the declarative memory module."
   ]
  },
  {
   "cell_type": "code",
   "execution_count": 22,
   "metadata": {},
   "outputs": [],
   "source": [
    "dm = agreement.decmem"
   ]
  },
  {
   "cell_type": "markdown",
   "metadata": {},
   "source": [
    "We can invoke the `add` method associated with the declarative memory module in order to add chunks to declarative memory."
   ]
  },
  {
   "cell_type": "code",
   "execution_count": 25,
   "metadata": {},
   "outputs": [
    {
     "name": "stdout",
     "output_type": "stream",
     "text": [
      "{word(category= noun, form= car, meaning= [[car]], number= sg, synfunction= subj): array([0., 0.])}\n"
     ]
    }
   ],
   "source": [
    "dm.add(carLexeme2)\n",
    "print(dm)"
   ]
  },
  {
   "cell_type": "markdown",
   "metadata": {},
   "source": [
    "Note that when we inspect `dm`, we see the chunk we just added, alongside the chunk encoding time. Since we haven't run the model yet, this time is 0."
   ]
  },
  {
   "cell_type": "code",
   "execution_count": null,
   "metadata": {},
   "outputs": [],
   "source": []
  }
 ],
 "metadata": {
  "kernelspec": {
   "display_name": "Python 3",
   "language": "python",
   "name": "python3"
  },
  "language_info": {
   "codemirror_mode": {
    "name": "ipython",
    "version": 3
   },
   "file_extension": ".py",
   "mimetype": "text/x-python",
   "name": "python",
   "nbconvert_exporter": "python",
   "pygments_lexer": "ipython3",
   "version": "3.7.7"
  }
 },
 "nbformat": 4,
 "nbformat_minor": 4
}
